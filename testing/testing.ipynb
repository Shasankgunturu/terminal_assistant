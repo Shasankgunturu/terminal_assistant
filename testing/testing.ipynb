{
 "cells": [
  {
   "cell_type": "code",
   "execution_count": 26,
   "metadata": {},
   "outputs": [
    {
     "name": "stderr",
     "output_type": "stream",
     "text": [
      "Processing:  67%|██████▋    [ 67% ]"
     ]
    },
    {
     "name": "stdout",
     "output_type": "stream",
     "text": [
      "basic_linux_assistant.py\n",
      "\n",
      "trial.ipynb\n",
      "\n",
      "Command execution finished.\n"
     ]
    },
    {
     "name": "stderr",
     "output_type": "stream",
     "text": [
      "\n"
     ]
    }
   ],
   "source": [
    "import subprocess\n",
    "from tqdm import tqdm\n",
    "\n",
    "# Command that provides progress information (replace with your command)\n",
    "command_list = ['time','ls']\n",
    "\n",
    "# Start the subprocess\n",
    "process = subprocess.Popen(command_list, stdout=subprocess.PIPE, stderr=subprocess.PIPE, text=True)\n",
    "\n",
    "# Create a progress bar (assuming the process produces 5 lines of progress updates)\n",
    "total_steps = 3\n",
    "with tqdm(total=total_steps, desc=\"Processing\", bar_format=\"{l_bar}{bar} [ {percentage:.0f}% ]\") as pbar:\n",
    "    for line in process.stdout:\n",
    "        print(line)  # Optional: print the output for debugging\n",
    "        pbar.update(1)  # Increment the progress bar for each line of output\n",
    "\n",
    "# Wait for the subprocess to finish\n",
    "process.wait()\n",
    "\n",
    "print(\"Command execution finished.\")\n"
   ]
  },
  {
   "cell_type": "code",
   "execution_count": 24,
   "metadata": {},
   "outputs": [
    {
     "name": "stderr",
     "output_type": "stream",
     "text": [
      "Processing:   0%|           [ 0% ]"
     ]
    },
    {
     "name": "stdout",
     "output_type": "stream",
     "text": [
      "Command execution finished.\n"
     ]
    },
    {
     "name": "stderr",
     "output_type": "stream",
     "text": [
      "\n"
     ]
    }
   ],
   "source": [
    "import re\n",
    "\n",
    "# Assume the command outputs progress like \"Progress: 40%\"\n",
    "progress_pattern = re.compile(r\"Progress: (\\d+)%\")\n",
    "\n",
    "process = subprocess.Popen(command_list, stdout=subprocess.PIPE, stderr=subprocess.PIPE, text=True)\n",
    "\n",
    "with tqdm(total=100, desc=\"Processing\", bar_format=\"{l_bar}{bar} [ {percentage:.0f}% ]\") as pbar:\n",
    "    for line in process.stdout:\n",
    "        match = progress_pattern.search(line)\n",
    "        if match:\n",
    "            progress = int(match.group(1))\n",
    "            pbar.n = progress\n",
    "            pbar.refresh()\n",
    "\n",
    "process.wait()\n",
    "print(\"Command execution finished.\")\n"
   ]
  },
  {
   "cell_type": "code",
   "execution_count": 2,
   "metadata": {},
   "outputs": [],
   "source": [
    "file_to_delete = open(\"keylog.txt\",'w')\n",
    "file_to_delete.close()"
   ]
  },
  {
   "cell_type": "code",
   "execution_count": null,
   "metadata": {},
   "outputs": [],
   "source": []
  }
 ],
 "metadata": {
  "kernelspec": {
   "display_name": "my-venv",
   "language": "python",
   "name": "python3"
  },
  "language_info": {
   "codemirror_mode": {
    "name": "ipython",
    "version": 3
   },
   "file_extension": ".py",
   "mimetype": "text/x-python",
   "name": "python",
   "nbconvert_exporter": "python",
   "pygments_lexer": "ipython3",
   "version": "3.12.3"
  }
 },
 "nbformat": 4,
 "nbformat_minor": 2
}
